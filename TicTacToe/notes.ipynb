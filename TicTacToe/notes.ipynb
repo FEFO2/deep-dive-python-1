{
 "cells": [
  {
   "cell_type": "markdown",
   "metadata": {},
   "source": [
    "Actualizaciones\n",
    "- Matrix con lambda HECHO\n",
    "- play()\n",
    "- check() a prueba de errores"
   ]
  },
  {
   "cell_type": "markdown",
   "metadata": {},
   "source": [
    "Función check() para revisar si el numero ingresado es correcto"
   ]
  },
  {
   "cell_type": "code",
   "execution_count": 10,
   "metadata": {},
   "outputs": [],
   "source": [
    "def check(num):\n",
    "    if num.isdigit():\n",
    "        choice = int(num)\n",
    "        if 1 <= choice <= 9:\n",
    "            return True\n",
    "        else: return False\n",
    "    else: return False   "
   ]
  },
  {
   "cell_type": "markdown",
   "metadata": {},
   "source": [
    "Funcion play() para arrancar la partida"
   ]
  },
  {
   "cell_type": "code",
   "execution_count": 23,
   "metadata": {},
   "outputs": [],
   "source": [
    "\n",
    "\n",
    "# Matrix \n",
    "matrix = [[\"\" for _ in range(3)] for x in range(3)]\n",
    "# Turnos\n",
    "x_turn, o_turn = 0, 0\n",
    "\n",
    "\n",
    "\n",
    "\n",
    "\n",
    "def play(num):  # No está a prueba de errores!!\n",
    "    global x_turn, o_turn\n",
    "    num = int(num)\n",
    "    if x_turn == o_turn: # Aquí decide si juegan 'X' o 'O'\n",
    "        if  1 <= num <= 3:\n",
    "            matrix[0][num-1] = \"X\"\n",
    "        elif  4 <= num <= 6:\n",
    "            matrix[1][num-4] = \"X\"\n",
    "        elif  7 <= num <= 9:\n",
    "            matrix[2][num-7] = \"X\"\n",
    "        x_turn += 1\n",
    "    else:\n",
    "        if  1 <= num <= 3:\n",
    "            matrix[0][num-1] = \"O\"\n",
    "        elif  4 <= num <= 6:\n",
    "            matrix[1][num-4] = \"O\"\n",
    "        elif  7 <= num <= 9:\n",
    "            matrix[2][num-7] = \"O\"\n",
    "        o_turn += 1\n",
    "    for row in matrix:\n",
    "        print(row)\n",
    "    print()\n",
    "    if x_turn == o_turn: # Bucle para elegir quien juega\n",
    "        print(\"Now plays X!\")\n",
    "    else: print(\"Now plays O!\")\n",
    "    \n"
   ]
  },
  {
   "cell_type": "markdown",
   "metadata": {},
   "source": [
    "Prueba de código"
   ]
  },
  {
   "cell_type": "code",
   "execution_count": 20,
   "metadata": {},
   "outputs": [
    {
     "name": "stdout",
     "output_type": "stream",
     "text": [
      "['X', '', '']\n",
      "['', '', '']\n",
      "['', '', '']\n",
      "\n",
      "Now plays O!\n"
     ]
    }
   ],
   "source": [
    "play(input(\"Choose a position: \"))\n"
   ]
  },
  {
   "cell_type": "markdown",
   "metadata": {},
   "source": [
    "Como es la estructura:\n",
    "\n",
    "ejecutamos main.py\n",
    "\n",
    "1) aparece un cartel:\n",
    "\n",
    "Welcome to tictactoe 2000!\n",
    "\n",
    "2) Opciones: Press enter to start o esperar 5 segundos\n",
    "\n",
    "\n",
    "3) Positions:\n",
    "\n",
    "1|2|3\n",
    "4|5|6\n",
    "7|8|9\n",
    "\n",
    "4) game\n",
    "\n",
    " | |O\n",
    " |X|\n",
    " |O|\n",
    "\n",
    "5) Ganador X o O\n",
    "\n",
    "Repite 4 juego.\n",
    "\n"
   ]
  },
  {
   "cell_type": "markdown",
   "metadata": {},
   "source": []
  },
  {
   "cell_type": "code",
   "execution_count": 12,
   "metadata": {},
   "outputs": [
    {
     "name": "stdout",
     "output_type": "stream",
     "text": [
      "True\n"
     ]
    }
   ],
   "source": [
    "print(check(\"8\"))"
   ]
  },
  {
   "cell_type": "code",
   "execution_count": 27,
   "metadata": {},
   "outputs": [],
   "source": [
    "def new_game():\n",
    "    global matrix, x_turn, o_turn\n",
    "    matrix = [[\"\" for _ in range(3)] for x in range(3)]     # Set game matrix defalut \n",
    "    x_turn, o_turn = 0, 0    \n",
    "    return None\n",
    "# -----------------"
   ]
  },
  {
   "cell_type": "code",
   "execution_count": 29,
   "metadata": {},
   "outputs": [],
   "source": [
    "new_game()"
   ]
  },
  {
   "cell_type": "code",
   "execution_count": null,
   "metadata": {},
   "outputs": [],
   "source": [
    "1 2 3\n",
    "4 5 6\n",
    "7 8 9\n",
    "1 4 7\n",
    "2 5 8\n",
    "3 6 9\n",
    "1 5 9\n",
    "7 5 3\n",
    "\n"
   ]
  }
 ],
 "metadata": {
  "kernelspec": {
   "display_name": "Python 3",
   "language": "python",
   "name": "python3"
  },
  "language_info": {
   "codemirror_mode": {
    "name": "ipython",
    "version": 3
   },
   "file_extension": ".py",
   "mimetype": "text/x-python",
   "name": "python",
   "nbconvert_exporter": "python",
   "pygments_lexer": "ipython3",
   "version": "3.12.0"
  }
 },
 "nbformat": 4,
 "nbformat_minor": 2
}
